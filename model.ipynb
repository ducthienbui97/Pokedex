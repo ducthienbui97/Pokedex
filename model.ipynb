{
 "cells": [
  {
   "cell_type": "code",
   "execution_count": 1,
   "metadata": {},
   "outputs": [
    {
     "name": "stderr",
     "output_type": "stream",
     "text": [
      "Using TensorFlow backend.\n"
     ]
    }
   ],
   "source": [
    "from keras.models import Sequential, Model, load_model\n",
    "from keras import applications\n",
    "from keras import optimizers\n",
    "from keras import metrics\n",
    "from keras.layers import Dropout, Flatten, Dense\n",
    "from keras.preprocessing.image import ImageDataGenerator\n",
    "\n",
    "img_rows, img_cols, img_channel = 224, 224, 3\n",
    "\n",
    "base_model = applications.VGG16(weights='imagenet', include_top=False, input_shape=(img_rows, img_cols, img_channel))"
   ]
  },
  {
   "cell_type": "code",
   "execution_count": 2,
   "metadata": {},
   "outputs": [
    {
     "name": "stdout",
     "output_type": "stream",
     "text": [
      "Found 13347 images belonging to 151 classes.\n",
      "Found 4535 images belonging to 151 classes.\n"
     ]
    }
   ],
   "source": [
    "train_data_dir = 'data/train'\n",
    "validation_data_dir = 'data/validate'\n",
    "epochs = 16\n",
    "batch_size = 16\n",
    "train_datagen = ImageDataGenerator(rescale=1. / 255,\n",
    "                                   shear_range=0.2,\n",
    "                                   zoom_range=0.2,\n",
    "                                   rotation_range=30)\n",
    "test_datagen = ImageDataGenerator(rescale=1. / 255)\n",
    "\n",
    "train_generator = train_datagen.flow_from_directory(\n",
    "    train_data_dir,\n",
    "    target_size=(img_rows, img_cols),\n",
    "    batch_size=batch_size,\n",
    "    seed = 1997)\n",
    "\n",
    "validation_generator = test_datagen.flow_from_directory(\n",
    "    validation_data_dir,\n",
    "    target_size=(img_rows, img_cols),\n",
    "    batch_size=batch_size,\n",
    "    seed = 1997)\n"
   ]
  },
  {
   "cell_type": "code",
   "execution_count": 3,
   "metadata": {
    "collapsed": true
   },
   "outputs": [],
   "source": [
    "top_model = Sequential()\n",
    "top_model.add(Flatten(input_shape=base_model.output_shape[1:]))\n",
    "top_model.add(Dense(256, activation='relu'))\n",
    "top_model.add(Dropout(0.5))\n",
    "top_model.add(Dense(151, activation='softmax'))"
   ]
  },
  {
   "cell_type": "code",
   "execution_count": 4,
   "metadata": {
    "collapsed": true
   },
   "outputs": [],
   "source": [
    "for layer in base_model.layers[:15]:\n",
    "    layer.trainable = False"
   ]
  },
  {
   "cell_type": "code",
   "execution_count": 5,
   "metadata": {},
   "outputs": [
    {
     "name": "stderr",
     "output_type": "stream",
     "text": [
      "C:\\Anaconda3\\lib\\site-packages\\ipykernel_launcher.py:1: UserWarning: Update your `Model` call to the Keras 2 API: `Model(outputs=Tensor(\"se..., inputs=Tensor(\"in...)`\n",
      "  \"\"\"Entry point for launching an IPython kernel.\n"
     ]
    }
   ],
   "source": [
    "model = Model(input= base_model.input, output= top_model(base_model.output))"
   ]
  },
  {
   "cell_type": "code",
   "execution_count": 6,
   "metadata": {},
   "outputs": [
    {
     "name": "stdout",
     "output_type": "stream",
     "text": [
      "_________________________________________________________________\n",
      "Layer (type)                 Output Shape              Param #   \n",
      "=================================================================\n",
      "input_1 (InputLayer)         (None, 224, 224, 3)       0         \n",
      "_________________________________________________________________\n",
      "block1_conv1 (Conv2D)        (None, 224, 224, 64)      1792      \n",
      "_________________________________________________________________\n",
      "block1_conv2 (Conv2D)        (None, 224, 224, 64)      36928     \n",
      "_________________________________________________________________\n",
      "block1_pool (MaxPooling2D)   (None, 112, 112, 64)      0         \n",
      "_________________________________________________________________\n",
      "block2_conv1 (Conv2D)        (None, 112, 112, 128)     73856     \n",
      "_________________________________________________________________\n",
      "block2_conv2 (Conv2D)        (None, 112, 112, 128)     147584    \n",
      "_________________________________________________________________\n",
      "block2_pool (MaxPooling2D)   (None, 56, 56, 128)       0         \n",
      "_________________________________________________________________\n",
      "block3_conv1 (Conv2D)        (None, 56, 56, 256)       295168    \n",
      "_________________________________________________________________\n",
      "block3_conv2 (Conv2D)        (None, 56, 56, 256)       590080    \n",
      "_________________________________________________________________\n",
      "block3_conv3 (Conv2D)        (None, 56, 56, 256)       590080    \n",
      "_________________________________________________________________\n",
      "block3_pool (MaxPooling2D)   (None, 28, 28, 256)       0         \n",
      "_________________________________________________________________\n",
      "block4_conv1 (Conv2D)        (None, 28, 28, 512)       1180160   \n",
      "_________________________________________________________________\n",
      "block4_conv2 (Conv2D)        (None, 28, 28, 512)       2359808   \n",
      "_________________________________________________________________\n",
      "block4_conv3 (Conv2D)        (None, 28, 28, 512)       2359808   \n",
      "_________________________________________________________________\n",
      "block4_pool (MaxPooling2D)   (None, 14, 14, 512)       0         \n",
      "_________________________________________________________________\n",
      "block5_conv1 (Conv2D)        (None, 14, 14, 512)       2359808   \n",
      "_________________________________________________________________\n",
      "block5_conv2 (Conv2D)        (None, 14, 14, 512)       2359808   \n",
      "_________________________________________________________________\n",
      "block5_conv3 (Conv2D)        (None, 14, 14, 512)       2359808   \n",
      "_________________________________________________________________\n",
      "block5_pool (MaxPooling2D)   (None, 7, 7, 512)         0         \n",
      "_________________________________________________________________\n",
      "sequential_1 (Sequential)    (None, 151)               6461591   \n",
      "=================================================================\n",
      "Total params: 21,176,279\n",
      "Trainable params: 13,541,015\n",
      "Non-trainable params: 7,635,264\n",
      "_________________________________________________________________\n"
     ]
    }
   ],
   "source": [
    "model.summary()"
   ]
  },
  {
   "cell_type": "code",
   "execution_count": 7,
   "metadata": {
    "collapsed": true
   },
   "outputs": [],
   "source": [
    "top3 = lambda x,y: metrics.top_k_categorical_accuracy(x,y,3)\n",
    "top5 = lambda x,y: metrics.top_k_categorical_accuracy(x,y,5)\n",
    "sgd = optimizers.SGD(lr=1e-3, decay=1e-6, momentum=0.9, nesterov=True)\n",
    "model.compile(loss='categorical_crossentropy', optimizer=sgd, metrics=['accuracy',top3,top5])"
   ]
  },
  {
   "cell_type": "code",
   "execution_count": 8,
   "metadata": {},
   "outputs": [
    {
     "name": "stdout",
     "output_type": "stream",
     "text": [
      "Epoch 1/16\n",
      "900/900 [==============================] - 823s - loss: 5.0242 - acc: 0.0074 - <lambda>_1: 0.0219 - <lambda>_2: 0.0369 - val_loss: 4.9991 - val_acc: 0.0134 - val_<lambda>_1: 0.0286 - val_<lambda>_2: 0.0428\n",
      "Epoch 2/16\n",
      "900/900 [==============================] - 772s - loss: 4.4707 - acc: 0.0944 - <lambda>_1: 0.1635 - <lambda>_2: 0.2076 - val_loss: 2.8436 - val_acc: 0.4156 - val_<lambda>_1: 0.5638 - val_<lambda>_2: 0.6312\n",
      "Epoch 3/16\n",
      "900/900 [==============================] - 772s - loss: 2.6826 - acc: 0.4070 - <lambda>_1: 0.5683 - <lambda>_2: 0.6328 - val_loss: 1.4863 - val_acc: 0.6788 - val_<lambda>_1: 0.7894 - val_<lambda>_2: 0.8328\n",
      "Epoch 4/16\n",
      "900/900 [==============================] - 772s - loss: 1.7470 - acc: 0.5910 - <lambda>_1: 0.7423 - <lambda>_2: 0.7977 - val_loss: 1.2046 - val_acc: 0.7153 - val_<lambda>_1: 0.8336 - val_<lambda>_2: 0.8687\n",
      "Epoch 5/16\n",
      "900/900 [==============================] - 773s - loss: 1.3269 - acc: 0.6765 - <lambda>_1: 0.8182 - <lambda>_2: 0.8626 - val_loss: 1.0047 - val_acc: 0.7706 - val_<lambda>_1: 0.8660 - val_<lambda>_2: 0.8929\n",
      "Epoch 6/16\n",
      "900/900 [==============================] - 772s - loss: 1.0433 - acc: 0.7341 - <lambda>_1: 0.8648 - <lambda>_2: 0.9025 - val_loss: 0.8773 - val_acc: 0.7863 - val_<lambda>_1: 0.8885 - val_<lambda>_2: 0.9146\n",
      "Epoch 7/16\n",
      "900/900 [==============================] - 772s - loss: 0.8687 - acc: 0.7821 - <lambda>_1: 0.8962 - <lambda>_2: 0.9267 - val_loss: 0.8202 - val_acc: 0.8057 - val_<lambda>_1: 0.8933 - val_<lambda>_2: 0.9213\n",
      "Epoch 8/16\n",
      "900/900 [==============================] - 772s - loss: 0.7171 - acc: 0.8134 - <lambda>_1: 0.9195 - <lambda>_2: 0.9445 - val_loss: 0.7727 - val_acc: 0.8211 - val_<lambda>_1: 0.9027 - val_<lambda>_2: 0.9251\n",
      "Epoch 9/16\n",
      "900/900 [==============================] - 772s - loss: 0.6251 - acc: 0.8348 - <lambda>_1: 0.9348 - <lambda>_2: 0.9570 - val_loss: 0.7671 - val_acc: 0.8213 - val_<lambda>_1: 0.9069 - val_<lambda>_2: 0.9269\n",
      "Epoch 10/16\n",
      "900/900 [==============================] - 772s - loss: 0.5297 - acc: 0.8548 - <lambda>_1: 0.9479 - <lambda>_2: 0.9668 - val_loss: 0.7239 - val_acc: 0.8326 - val_<lambda>_1: 0.9125 - val_<lambda>_2: 0.9357\n",
      "Epoch 11/16\n",
      "900/900 [==============================] - 772s - loss: 0.4652 - acc: 0.8735 - <lambda>_1: 0.9569 - <lambda>_2: 0.9741 - val_loss: 0.7240 - val_acc: 0.8372 - val_<lambda>_1: 0.9115 - val_<lambda>_2: 0.9324\n",
      "Epoch 12/16\n",
      "900/900 [==============================] - 772s - loss: 0.4246 - acc: 0.8807 - <lambda>_1: 0.9641 - <lambda>_2: 0.9766 - val_loss: 0.6956 - val_acc: 0.8357 - val_<lambda>_1: 0.9159 - val_<lambda>_2: 0.9361\n",
      "Epoch 13/16\n",
      "900/900 [==============================] - 772s - loss: 0.3700 - acc: 0.8956 - <lambda>_1: 0.9690 - <lambda>_2: 0.9828 - val_loss: 0.6783 - val_acc: 0.8503 - val_<lambda>_1: 0.9230 - val_<lambda>_2: 0.9386\n",
      "Epoch 14/16\n",
      "900/900 [==============================] - 772s - loss: 0.3230 - acc: 0.9113 - <lambda>_1: 0.9783 - <lambda>_2: 0.9879 - val_loss: 0.7217 - val_acc: 0.8420 - val_<lambda>_1: 0.9134 - val_<lambda>_2: 0.9345\n",
      "Epoch 15/16\n",
      "900/900 [==============================] - 773s - loss: 0.3087 - acc: 0.9117 - <lambda>_1: 0.9803 - <lambda>_2: 0.9901 - val_loss: 0.6957 - val_acc: 0.8489 - val_<lambda>_1: 0.9140 - val_<lambda>_2: 0.9338\n",
      "Epoch 16/16\n",
      "900/900 [==============================] - 773s - loss: 0.2616 - acc: 0.9234 - <lambda>_1: 0.9835 - <lambda>_2: 0.9921 - val_loss: 0.7613 - val_acc: 0.8418 - val_<lambda>_1: 0.9121 - val_<lambda>_2: 0.9338\n"
     ]
    },
    {
     "data": {
      "text/plain": [
       "<keras.callbacks.History at 0x204c7266898>"
      ]
     },
     "execution_count": 8,
     "metadata": {},
     "output_type": "execute_result"
    }
   ],
   "source": [
    "model.fit_generator(\n",
    "        train_generator,\n",
    "        steps_per_epoch = 900,\n",
    "        epochs = epochs,\n",
    "        validation_data = validation_generator,\n",
    "        validation_steps = 300)"
   ]
  },
  {
   "cell_type": "code",
   "execution_count": 9,
   "metadata": {
    "collapsed": true
   },
   "outputs": [],
   "source": [
    "json_string = model.to_json()\n",
    "model.save_weights('model_weights.h5')\n",
    "with open(\"model.json\", \"w\") as json_file:\n",
    "    json_file.write(model_json)"
   ]
  },
  {
   "cell_type": "code",
   "execution_count": null,
   "metadata": {
    "collapsed": true
   },
   "outputs": [],
   "source": []
  }
 ],
 "metadata": {
  "kernelspec": {
   "display_name": "Python 3",
   "language": "python",
   "name": "python3"
  },
  "language_info": {
   "codemirror_mode": {
    "name": "ipython",
    "version": 3
   },
   "file_extension": ".py",
   "mimetype": "text/x-python",
   "name": "python",
   "nbconvert_exporter": "python",
   "pygments_lexer": "ipython3",
   "version": "3.5.4"
  }
 },
 "nbformat": 4,
 "nbformat_minor": 2
}
